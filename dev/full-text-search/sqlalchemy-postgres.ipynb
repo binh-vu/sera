{
 "cells": [
  {
   "cell_type": "code",
   "execution_count": 1,
   "id": "8a9b1449",
   "metadata": {},
   "outputs": [],
   "source": [
    "import os\n",
    "\n",
    "os.environ[\"CFG_FILE\"] = os.path.expanduser(\n",
    "    \"~/workspace/workspace/projects/ridge/config.dev.yml\"\n",
    ")\n",
    "os.environ[\"DEPLOY_ENV\"] = \"dev\"\n",
    "\n",
    "from supplier.models.db import Supplier, engine, get_session"
   ]
  },
  {
   "cell_type": "code",
   "execution_count": 2,
   "id": "1a850ef3",
   "metadata": {},
   "outputs": [],
   "source": [
    "from sqlalchemy.schema import CreateTable, CreateIndex\n",
    "from sqlalchemy import select\n",
    "from sqlalchemy import func"
   ]
  },
  {
   "cell_type": "code",
   "execution_count": 3,
   "id": "e3c2bfa6",
   "metadata": {},
   "outputs": [
    {
     "name": "stdout",
     "output_type": "stream",
     "text": [
      "\n",
      "CREATE TABLE supplier (\n",
      "\tid SERIAL NOT NULL, \n",
      "\ttenant_id INTEGER NOT NULL, \n",
      "\tcreated_at TIMESTAMP WITHOUT TIME ZONE NOT NULL, \n",
      "\tupdated_at TIMESTAMP WITHOUT TIME ZONE NOT NULL, \n",
      "\tname VARCHAR NOT NULL, \n",
      "\ttype suppliertype NOT NULL, \n",
      "\tclass_ supplierclass NOT NULL, \n",
      "\tpriority supplierpriority NOT NULL, \n",
      "\taddress_country VARCHAR, \n",
      "\taddress_administrative_area_level_1 VARCHAR, \n",
      "\taddress_administrative_area_level_2 VARCHAR, \n",
      "\taddress_administrative_area_level_3 VARCHAR, \n",
      "\taddress_street_address VARCHAR, \n",
      "\taddress_postal_code VARCHAR, \n",
      "\tcontact_first_name VARCHAR, \n",
      "\tcontact_last_name VARCHAR, \n",
      "\tcontact_middle_name VARCHAR, \n",
      "\tcontact_full_name VARCHAR, \n",
      "\tcontact_email VARCHAR, \n",
      "\tcontact_phone_number VARCHAR, \n",
      "\twebsite VARCHAR, \n",
      "\tnote VARCHAR NOT NULL, \n",
      "\tdeactivate BOOLEAN NOT NULL, \n",
      "\tvat_type vattype NOT NULL, \n",
      "\tvat_value FLOAT, \n",
      "\tvat_is_required BOOLEAN NOT NULL, \n",
      "\ttax_name VARCHAR, \n",
      "\ttax_address VARCHAR, \n",
      "\ttax_identifier VARCHAR, \n",
      "\tPRIMARY KEY (id), \n",
      "\tFOREIGN KEY(tenant_id) REFERENCES tenant (id) ON DELETE CASCADE ON UPDATE CASCADE\n",
      ")\n",
      "\n",
      "\n"
     ]
    }
   ],
   "source": [
    "print(CreateTable(Supplier.__table__).compile(engine))"
   ]
  },
  {
   "cell_type": "code",
   "execution_count": 4,
   "id": "70ddd08b",
   "metadata": {},
   "outputs": [
    {
     "name": "stdout",
     "output_type": "stream",
     "text": [
      "CREATE INDEX idx_supplier_name_gist ON supplier USING gist (name gist_trgm_ops(siglen=256))\n",
      "CREATE INDEX ix_supplier_type ON supplier (type)\n",
      "CREATE INDEX ix_supplier_created_at ON supplier (created_at)\n",
      "CREATE INDEX idx_supplier_name_gin ON supplier USING gin (to_tsvector('english', name))\n",
      "CREATE INDEX ix_supplier_updated_at ON supplier (updated_at)\n"
     ]
    }
   ],
   "source": [
    "for index in Supplier.__table__.indexes:\n",
    "    print(CreateIndex(index).compile(engine))"
   ]
  },
  {
   "cell_type": "code",
   "execution_count": 5,
   "id": "875e50f2",
   "metadata": {},
   "outputs": [
    {
     "name": "stdout",
     "output_type": "stream",
     "text": [
      "<function Operators.op.<locals>.against at 0x10dcdbb00>\n"
     ]
    }
   ],
   "source": [
    "print(Supplier.name.bool_op(\"@@\"))"
   ]
  },
  {
   "cell_type": "code",
   "execution_count": 6,
   "id": "b839e6e0",
   "metadata": {},
   "outputs": [],
   "source": [
    "q = select(Supplier).where(Supplier.name.bool_op(\"@@\")(func.plainto_tsquery(\"ninh\")))"
   ]
  },
  {
   "cell_type": "code",
   "execution_count": 7,
   "id": "b5a1e4c5",
   "metadata": {},
   "outputs": [
    {
     "name": "stdout",
     "output_type": "stream",
     "text": [
      "EXPLAIN (ANALYZE, BUFFERS, VERBOSE, FORMAT TEXT) SELECT supplier.id, supplier.tenant_id, supplier.created_at, supplier.updated_at, supplier.name, supplier.type, supplier.class_, supplier.priority, supplier.address_country, supplier.address_administrative_area_level_1, supplier.address_administrative_area_level_2, supplier.address_administrative_area_level_3, supplier.address_street_address, supplier.address_postal_code, supplier.contact_first_name, supplier.contact_last_name, supplier.contact_middle_name, supplier.contact_full_name, supplier.contact_email, supplier.contact_phone_number, supplier.website, supplier.note, supplier.deactivate, supplier.vat_type, supplier.vat_value, supplier.vat_is_required, supplier.tax_name, supplier.tax_address, supplier.tax_identifier \n",
      "FROM supplier \n",
      "WHERE supplier.name @@ plainto_tsquery('ninh')\n",
      "Seq Scan on public.supplier  (cost=0.00..304.11 rows=6 width=550) (actual time=0.135..1.714 rows=9 loops=1)\n",
      "  Output: id, tenant_id, created_at, updated_at, name, type, class_, priority, address_country, address_administrative_area_level_1, address_administrative_area_level_2, address_administrative_area_level_3, address_street_address, address_postal_code, contact_first_name, contact_last_name, contact_middle_name, contact_full_name, contact_email, contact_phone_number, website, note, deactivate, vat_type, vat_value, vat_is_required, tax_name, tax_address, tax_identifier\n",
      "  Filter: ((supplier.name)::text @@ plainto_tsquery('ninh'::text))\n",
      "  Rows Removed by Filter: 552\n",
      "  Buffers: shared hit=18\n",
      "Planning:\n",
      "  Buffers: shared hit=259\n",
      "Planning Time: 2.539 ms\n",
      "Execution Time: 1.737 ms\n",
      "================================================================================\n",
      "Bitmap Heap Scan on public.supplier  (cost=8.85..29.47 rows=9 width=550) (actual time=0.058..0.064 rows=9 loops=1)\n",
      "  Output: id, tenant_id, created_at, updated_at, name, type, class_, priority, address_country, address_administrative_area_level_1, address_administrative_area_level_2, address_administrative_area_level_3, address_street_address, address_postal_code, contact_first_name, contact_last_name, contact_middle_name, contact_full_name, contact_email, contact_phone_number, website, note, deactivate, vat_type, vat_value, vat_is_required, tax_name, tax_address, tax_identifier\n",
      "  Recheck Cond: (to_tsvector('english'::regconfig, (supplier.name)::text) @@ plainto_tsquery('ninh'::text))\n",
      "  Heap Blocks: exact=8\n",
      "  Buffers: shared hit=11\n",
      "  ->  Bitmap Index Scan on idx_supplier_name_gin  (cost=0.00..8.85 rows=9 width=0) (actual time=0.054..0.054 rows=9 loops=1)\n",
      "        Index Cond: (to_tsvector('english'::regconfig, (supplier.name)::text) @@ plainto_tsquery('ninh'::text))\n",
      "        Buffers: shared hit=3\n",
      "Planning:\n",
      "  Buffers: shared hit=13 dirtied=1\n",
      "Planning Time: 0.162 ms\n",
      "Execution Time: 0.088 ms\n"
     ]
    }
   ],
   "source": [
    "from sqlalchemy import text\n",
    "\n",
    "# compile the select with literal bound parameters so we get concrete SQL\n",
    "compiled = q.compile(engine, compile_kwargs={\"literal_binds\": True})\n",
    "explain_sql = \"EXPLAIN (ANALYZE, BUFFERS, VERBOSE, FORMAT TEXT) \" + str(compiled)\n",
    "\n",
    "print(explain_sql)\n",
    "\n",
    "# execute EXPLAIN and print the plan lines\n",
    "with get_session() as session:\n",
    "    explain_rows = session.execute(text(explain_sql)).all()\n",
    "\n",
    "for row in explain_rows:\n",
    "    print(row[0])\n",
    "print(\"=\" * 80)\n",
    "\n",
    "explain_sql = explain_sql.replace(\n",
    "    \"WHERE supplier.name @@\", \"WHERE to_tsvector('english', supplier.name) @@\"\n",
    ")\n",
    "# execute EXPLAIN and print the plan lines\n",
    "with get_session() as session:\n",
    "    explain_rows = session.execute(text(explain_sql)).all()\n",
    "\n",
    "for row in explain_rows:\n",
    "    print(row[0])"
   ]
  },
  {
   "cell_type": "code",
   "execution_count": 8,
   "id": "9cd05301",
   "metadata": {},
   "outputs": [
    {
     "name": "stdout",
     "output_type": "stream",
     "text": [
      "689 SIX SENSES NINH VAN BAY\n",
      "367 L’ALYANA NINH VAN BAY (FORMERLY AN LAM NINH VAN BAY VILLAS)\n"
     ]
    }
   ],
   "source": [
    "q = select(Supplier).where(\n",
    "    func.to_tsvector(\"english\", Supplier.name).bool_op(\"@@\")(\n",
    "        func.plainto_tsquery(\"ninh bay\")\n",
    "    )\n",
    ")\n",
    "\n",
    "with get_session() as session:\n",
    "    rs = session.execute(q).scalars().all()\n",
    "    for r in rs:\n",
    "        print(r.id, r.name)"
   ]
  },
  {
   "cell_type": "code",
   "execution_count": 17,
   "id": "480266d5",
   "metadata": {},
   "outputs": [
    {
     "name": "stdout",
     "output_type": "stream",
     "text": [
      "EXPLAIN (ANALYZE, BUFFERS, VERBOSE, FORMAT TEXT) SELECT supplier.id, supplier.tenant_id, supplier.created_at, supplier.updated_at, supplier.name, supplier.type, supplier.class_, supplier.priority, supplier.address_country, supplier.address_administrative_area_level_1, supplier.address_administrative_area_level_2, supplier.address_administrative_area_level_3, supplier.address_street_address, supplier.address_postal_code, supplier.contact_first_name, supplier.contact_last_name, supplier.contact_middle_name, supplier.contact_full_name, supplier.contact_email, supplier.contact_phone_number, supplier.website, supplier.note, supplier.deactivate, supplier.vat_type, supplier.vat_value, supplier.vat_is_required, supplier.tax_name, supplier.tax_address, supplier.tax_identifier \n",
      "FROM supplier \n",
      "WHERE f_unaccent(supplier.name) %%> 'ninh bay'\n",
      "842 LALITA BOUTIQUE HOTEL & SPA NINH BINH\n",
      "769 NINH BINH HIDDEN CHARM HOTEL & RESORT\n",
      "308 EMERALDA RESORT NINH BINH\n",
      "235 NAM HOA HOTEL NINH BINH\n",
      "344 MELIA VINPEARL TÂY NINH\n",
      "689 SIX SENSES NINH VAN BAY\n",
      "367 L’ALYANA NINH VAN BAY (FORMERLY AN LAM NINH VAN BAY VILLAS)\n"
     ]
    }
   ],
   "source": [
    "q = select(Supplier).where(func.f_unaccent(Supplier.name).bool_op(\"%>\")(\"ninh bay\"))\n",
    "compiled = q.compile(engine, compile_kwargs={\"literal_binds\": True})\n",
    "explain_sql = \"EXPLAIN (ANALYZE, BUFFERS, VERBOSE, FORMAT TEXT) \" + str(compiled)\n",
    "\n",
    "print(explain_sql)\n",
    "\n",
    "with get_session() as session:\n",
    "    rs = session.execute(q).scalars().all()\n",
    "    for r in rs:\n",
    "        print(r.id, r.name)"
   ]
  }
 ],
 "metadata": {
  "kernelspec": {
   "display_name": ".venv (3.13.7)",
   "language": "python",
   "name": "python3"
  },
  "language_info": {
   "codemirror_mode": {
    "name": "ipython",
    "version": 3
   },
   "file_extension": ".py",
   "mimetype": "text/x-python",
   "name": "python",
   "nbconvert_exporter": "python",
   "pygments_lexer": "ipython3",
   "version": "3.13.7"
  }
 },
 "nbformat": 4,
 "nbformat_minor": 5
}
