{
 "cells": [
  {
   "cell_type": "code",
   "execution_count": 21,
   "id": "8a9b1449",
   "metadata": {},
   "outputs": [],
   "source": [
    "import os\n",
    "\n",
    "os.environ[\"CFG_FILE\"] = os.path.expanduser(\n",
    "    \"~/workspace/workspace/projects/ridge/config.dev.yml\"\n",
    ")\n",
    "os.environ[\"DEPLOY_ENV\"] = \"dev\"\n",
    "\n",
    "from supplier.models.db import Supplier, engine, get_session"
   ]
  },
  {
   "cell_type": "code",
   "execution_count": 14,
   "id": "1a850ef3",
   "metadata": {},
   "outputs": [],
   "source": [
    "from sqlalchemy.schema import CreateTable, CreateIndex\n",
    "from sqlalchemy import select\n",
    "from sqlalchemy import func"
   ]
  },
  {
   "cell_type": "code",
   "execution_count": 6,
   "id": "e3c2bfa6",
   "metadata": {},
   "outputs": [
    {
     "name": "stdout",
     "output_type": "stream",
     "text": [
      "\n",
      "CREATE TABLE supplier (\n",
      "\tid SERIAL NOT NULL, \n",
      "\ttenant_id INTEGER NOT NULL, \n",
      "\tcreated_at TIMESTAMP WITHOUT TIME ZONE NOT NULL, \n",
      "\tupdated_at TIMESTAMP WITHOUT TIME ZONE NOT NULL, \n",
      "\tname VARCHAR NOT NULL, \n",
      "\ttype suppliertype NOT NULL, \n",
      "\tclass_ supplierclass NOT NULL, \n",
      "\tpriority supplierpriority NOT NULL, \n",
      "\taddress_country VARCHAR, \n",
      "\taddress_administrative_area_level_1 VARCHAR, \n",
      "\taddress_administrative_area_level_2 VARCHAR, \n",
      "\taddress_administrative_area_level_3 VARCHAR, \n",
      "\taddress_street_address VARCHAR, \n",
      "\taddress_postal_code VARCHAR, \n",
      "\tcontact_first_name VARCHAR, \n",
      "\tcontact_last_name VARCHAR, \n",
      "\tcontact_middle_name VARCHAR, \n",
      "\tcontact_full_name VARCHAR, \n",
      "\tcontact_email VARCHAR, \n",
      "\tcontact_phone_number VARCHAR, \n",
      "\twebsite VARCHAR, \n",
      "\tnote VARCHAR NOT NULL, \n",
      "\tdeactivate BOOLEAN NOT NULL, \n",
      "\tvat_type vattype NOT NULL, \n",
      "\tvat_value FLOAT, \n",
      "\tvat_is_required BOOLEAN NOT NULL, \n",
      "\ttax_name VARCHAR, \n",
      "\ttax_address VARCHAR, \n",
      "\ttax_identifier VARCHAR, \n",
      "\tPRIMARY KEY (id), \n",
      "\tFOREIGN KEY(tenant_id) REFERENCES tenant (id) ON DELETE CASCADE ON UPDATE CASCADE\n",
      ")\n",
      "\n",
      "\n"
     ]
    }
   ],
   "source": [
    "print(CreateTable(Supplier.__table__).compile(engine))"
   ]
  },
  {
   "cell_type": "code",
   "execution_count": 7,
   "id": "70ddd08b",
   "metadata": {},
   "outputs": [
    {
     "name": "stdout",
     "output_type": "stream",
     "text": [
      "CREATE INDEX idx_supplier_name_gin ON supplier USING gin (to_tsvector('english', name))\n",
      "CREATE INDEX ix_supplier_updated_at ON supplier (updated_at)\n",
      "CREATE INDEX ix_supplier_created_at ON supplier (created_at)\n",
      "CREATE INDEX ix_supplier_type ON supplier (type)\n"
     ]
    }
   ],
   "source": [
    "for index in Supplier.__table__.indexes:\n",
    "    print(CreateIndex(index).compile(engine))"
   ]
  },
  {
   "cell_type": "code",
   "execution_count": 16,
   "id": "875e50f2",
   "metadata": {},
   "outputs": [
    {
     "name": "stdout",
     "output_type": "stream",
     "text": [
      "<function Operators.op.<locals>.against at 0x1152a65c0>\n"
     ]
    }
   ],
   "source": [
    "print(Supplier.name.bool_op(\"@@\"))"
   ]
  },
  {
   "cell_type": "code",
   "execution_count": 32,
   "id": "b839e6e0",
   "metadata": {},
   "outputs": [],
   "source": [
    "q = select(Supplier).where(Supplier.name.bool_op(\"@@\")(func.plainto_tsquery(\"ninh\")))"
   ]
  },
  {
   "cell_type": "code",
   "execution_count": 39,
   "id": "b5a1e4c5",
   "metadata": {},
   "outputs": [
    {
     "name": "stdout",
     "output_type": "stream",
     "text": [
      "EXPLAIN (ANALYZE, BUFFERS, VERBOSE, FORMAT TEXT) SELECT supplier.id, supplier.tenant_id, supplier.created_at, supplier.updated_at, supplier.name, supplier.type, supplier.class_, supplier.priority, supplier.address_country, supplier.address_administrative_area_level_1, supplier.address_administrative_area_level_2, supplier.address_administrative_area_level_3, supplier.address_street_address, supplier.address_postal_code, supplier.contact_first_name, supplier.contact_last_name, supplier.contact_middle_name, supplier.contact_full_name, supplier.contact_email, supplier.contact_phone_number, supplier.website, supplier.note, supplier.deactivate, supplier.vat_type, supplier.vat_value, supplier.vat_is_required, supplier.tax_name, supplier.tax_address, supplier.tax_identifier \n",
      "FROM supplier \n",
      "WHERE supplier.name @@ plainto_tsquery('ninh')\n",
      "2025-09-17 20:52:30,874 INFO sqlalchemy.engine.Engine BEGIN (implicit)\n",
      "2025-09-17 20:52:30,875 INFO sqlalchemy.engine.Engine EXPLAIN (ANALYZE, BUFFERS, VERBOSE, FORMAT TEXT) SELECT supplier.id, supplier.tenant_id, supplier.created_at, supplier.updated_at, supplier.name, supplier.type, supplier.class_, supplier.priority, supplier.address_country, supplier.address_administrative_area_level_1, supplier.address_administrative_area_level_2, supplier.address_administrative_area_level_3, supplier.address_street_address, supplier.address_postal_code, supplier.contact_first_name, supplier.contact_last_name, supplier.contact_middle_name, supplier.contact_full_name, supplier.contact_email, supplier.contact_phone_number, supplier.website, supplier.note, supplier.deactivate, supplier.vat_type, supplier.vat_value, supplier.vat_is_required, supplier.tax_name, supplier.tax_address, supplier.tax_identifier \n",
      "FROM supplier \n",
      "WHERE supplier.name @@ plainto_tsquery('ninh')\n",
      "2025-09-17 20:52:30,875 INFO sqlalchemy.engine.Engine [cached since 112.3s ago] {}\n",
      "2025-09-17 20:52:30,882 INFO sqlalchemy.engine.Engine RESET ROLE;\n",
      "2025-09-17 20:52:30,882 INFO sqlalchemy.engine.Engine [cached since 657.5s ago] {}\n",
      "2025-09-17 20:52:30,883 INFO sqlalchemy.engine.Engine COMMIT\n",
      "Seq Scan on public.supplier  (cost=0.00..304.11 rows=6 width=550) (actual time=0.279..3.106 rows=9 loops=1)\n",
      "  Output: id, tenant_id, created_at, updated_at, name, type, class_, priority, address_country, address_administrative_area_level_1, address_administrative_area_level_2, address_administrative_area_level_3, address_street_address, address_postal_code, contact_first_name, contact_last_name, contact_middle_name, contact_full_name, contact_email, contact_phone_number, website, note, deactivate, vat_type, vat_value, vat_is_required, tax_name, tax_address, tax_identifier\n",
      "  Filter: ((supplier.name)::text @@ plainto_tsquery('ninh'::text))\n",
      "  Rows Removed by Filter: 552\n",
      "  Buffers: shared hit=18\n",
      "Planning Time: 0.900 ms\n",
      "Execution Time: 3.128 ms\n",
      "================================================================================\n",
      "2025-09-17 20:52:30,885 INFO sqlalchemy.engine.Engine BEGIN (implicit)\n",
      "2025-09-17 20:52:30,885 INFO sqlalchemy.engine.Engine EXPLAIN (ANALYZE, BUFFERS, VERBOSE, FORMAT TEXT) SELECT supplier.id, supplier.tenant_id, supplier.created_at, supplier.updated_at, supplier.name, supplier.type, supplier.class_, supplier.priority, supplier.address_country, supplier.address_administrative_area_level_1, supplier.address_administrative_area_level_2, supplier.address_administrative_area_level_3, supplier.address_street_address, supplier.address_postal_code, supplier.contact_first_name, supplier.contact_last_name, supplier.contact_middle_name, supplier.contact_full_name, supplier.contact_email, supplier.contact_phone_number, supplier.website, supplier.note, supplier.deactivate, supplier.vat_type, supplier.vat_value, supplier.vat_is_required, supplier.tax_name, supplier.tax_address, supplier.tax_identifier \n",
      "FROM supplier \n",
      "WHERE to_tsvector('english', supplier.name) @@ plainto_tsquery('ninh')\n",
      "2025-09-17 20:52:30,885 INFO sqlalchemy.engine.Engine [cached since 39.83s ago] {}\n",
      "2025-09-17 20:52:30,889 INFO sqlalchemy.engine.Engine RESET ROLE;\n",
      "2025-09-17 20:52:30,889 INFO sqlalchemy.engine.Engine [cached since 657.5s ago] {}\n",
      "2025-09-17 20:52:30,891 INFO sqlalchemy.engine.Engine COMMIT\n",
      "Bitmap Heap Scan on public.supplier  (cost=8.85..29.47 rows=9 width=550) (actual time=0.094..0.103 rows=9 loops=1)\n",
      "  Output: id, tenant_id, created_at, updated_at, name, type, class_, priority, address_country, address_administrative_area_level_1, address_administrative_area_level_2, address_administrative_area_level_3, address_street_address, address_postal_code, contact_first_name, contact_last_name, contact_middle_name, contact_full_name, contact_email, contact_phone_number, website, note, deactivate, vat_type, vat_value, vat_is_required, tax_name, tax_address, tax_identifier\n",
      "  Recheck Cond: (to_tsvector('english'::regconfig, (supplier.name)::text) @@ plainto_tsquery('ninh'::text))\n",
      "  Heap Blocks: exact=8\n",
      "  Buffers: shared hit=11\n",
      "  ->  Bitmap Index Scan on idx_supplier_name_gin  (cost=0.00..8.85 rows=9 width=0) (actual time=0.083..0.083 rows=9 loops=1)\n",
      "        Index Cond: (to_tsvector('english'::regconfig, (supplier.name)::text) @@ plainto_tsquery('ninh'::text))\n",
      "        Buffers: shared hit=3\n",
      "Planning:\n",
      "  Buffers: shared hit=1\n",
      "Planning Time: 0.304 ms\n",
      "Execution Time: 0.130 ms\n"
     ]
    }
   ],
   "source": [
    "from sqlalchemy import text\n",
    "\n",
    "# compile the select with literal bound parameters so we get concrete SQL\n",
    "compiled = q.compile(engine, compile_kwargs={\"literal_binds\": True})\n",
    "explain_sql = \"EXPLAIN (ANALYZE, BUFFERS, VERBOSE, FORMAT TEXT) \" + str(compiled)\n",
    "\n",
    "print(explain_sql)\n",
    "\n",
    "# execute EXPLAIN and print the plan lines\n",
    "with get_session() as session:\n",
    "    explain_rows = session.execute(text(explain_sql)).all()\n",
    "\n",
    "for row in explain_rows:\n",
    "    print(row[0])\n",
    "print(\"=\" * 80)\n",
    "\n",
    "explain_sql = explain_sql.replace(\n",
    "    \"WHERE supplier.name @@\", \"WHERE to_tsvector('english', supplier.name) @@\"\n",
    ")\n",
    "# execute EXPLAIN and print the plan lines\n",
    "with get_session() as session:\n",
    "    explain_rows = session.execute(text(explain_sql)).all()\n",
    "\n",
    "for row in explain_rows:\n",
    "    print(row[0])"
   ]
  },
  {
   "cell_type": "code",
   "execution_count": 43,
   "id": "9cd05301",
   "metadata": {},
   "outputs": [
    {
     "name": "stdout",
     "output_type": "stream",
     "text": [
      "2025-09-18 06:27:40,679 INFO sqlalchemy.engine.Engine BEGIN (implicit)\n",
      "2025-09-18 06:27:40,680 INFO sqlalchemy.engine.Engine SELECT supplier.id, supplier.tenant_id, supplier.created_at, supplier.updated_at, supplier.name, supplier.type, supplier.class_, supplier.priority, supplier.address_country, supplier.address_administrative_area_level_1, supplier.address_administrative_area_level_2, supplier.address_administrative_area_level_3, supplier.address_street_address, supplier.address_postal_code, supplier.contact_first_name, supplier.contact_last_name, supplier.contact_middle_name, supplier.contact_full_name, supplier.contact_email, supplier.contact_phone_number, supplier.website, supplier.note, supplier.deactivate, supplier.vat_type, supplier.vat_value, supplier.vat_is_required, supplier.tax_name, supplier.tax_address, supplier.tax_identifier \n",
      "FROM supplier \n",
      "WHERE to_tsvector(%(to_tsvector_1)s::REGCONFIG, supplier.name) @@ plainto_tsquery(%(plainto_tsquery_1)s::VARCHAR)\n",
      "2025-09-18 06:27:40,681 INFO sqlalchemy.engine.Engine [cached since 42.81s ago] {'to_tsvector_1': 'english', 'plainto_tsquery_1': 'ninh bay'}\n",
      "689 SIX SENSES NINH VAN BAY\n",
      "367 L’ALYANA NINH VAN BAY (FORMERLY AN LAM NINH VAN BAY VILLAS)\n",
      "2025-09-18 06:27:40,686 INFO sqlalchemy.engine.Engine RESET ROLE;\n",
      "2025-09-18 06:27:40,686 INFO sqlalchemy.engine.Engine [cached since 3.056e+04s ago] {}\n",
      "2025-09-18 06:27:40,687 INFO sqlalchemy.engine.Engine COMMIT\n"
     ]
    }
   ],
   "source": [
    "q = select(Supplier).where(\n",
    "    func.to_tsvector(\"english\", Supplier.name).bool_op(\"@@\")(\n",
    "        func.plainto_tsquery(\"ninh bay\")\n",
    "    )\n",
    ")\n",
    "\n",
    "with get_session() as session:\n",
    "    rs = session.execute(q).scalars().all()\n",
    "    for r in rs:\n",
    "        print(r.id, r.name)"
   ]
  },
  {
   "cell_type": "code",
   "execution_count": 48,
   "id": "480266d5",
   "metadata": {},
   "outputs": [
    {
     "name": "stdout",
     "output_type": "stream",
     "text": [
      "2025-09-18 06:48:50,164 INFO sqlalchemy.engine.Engine BEGIN (implicit)\n",
      "2025-09-18 06:48:50,165 INFO sqlalchemy.engine.Engine SELECT supplier.id, to_tsquery(%(to_tsquery_2)s::REGCONFIG, %(to_tsquery_3)s::VARCHAR) AS to_tsquery_1 \n",
      "FROM supplier \n",
      " LIMIT %(param_1)s::INTEGER\n",
      "2025-09-18 06:48:50,165 INFO sqlalchemy.engine.Engine [generated in 0.00046s] {'to_tsquery_2': 'english', 'to_tsquery_3': 'Hello world', 'param_1': 1}\n",
      "2025-09-18 06:48:50,170 INFO sqlalchemy.engine.Engine ROLLBACK\n"
     ]
    },
    {
     "ename": "ProgrammingError",
     "evalue": "(psycopg.errors.SyntaxError) syntax error in tsquery: \"Hello world\"\n[SQL: SELECT supplier.id, to_tsquery(%(to_tsquery_2)s::REGCONFIG, %(to_tsquery_3)s::VARCHAR) AS to_tsquery_1 \nFROM supplier \n LIMIT %(param_1)s::INTEGER]\n[parameters: {'to_tsquery_2': 'english', 'to_tsquery_3': 'Hello world', 'param_1': 1}]\n(Background on this error at: https://sqlalche.me/e/20/f405)",
     "output_type": "error",
     "traceback": [
      "\u001b[31m---------------------------------------------------------------------------\u001b[39m",
      "\u001b[31mSyntaxError\u001b[39m                               Traceback (most recent call last)",
      "\u001b[36mFile \u001b[39m\u001b[32m~/workspace/workspace/projects/ridge/.venv/lib/python3.13/site-packages/sqlalchemy/engine/base.py:1967\u001b[39m, in \u001b[36mConnection._exec_single_context\u001b[39m\u001b[34m(self, dialect, context, statement, parameters)\u001b[39m\n\u001b[32m   1966\u001b[39m     \u001b[38;5;28;01mif\u001b[39;00m \u001b[38;5;129;01mnot\u001b[39;00m evt_handled:\n\u001b[32m-> \u001b[39m\u001b[32m1967\u001b[39m         \u001b[38;5;28;43mself\u001b[39;49m\u001b[43m.\u001b[49m\u001b[43mdialect\u001b[49m\u001b[43m.\u001b[49m\u001b[43mdo_execute\u001b[49m\u001b[43m(\u001b[49m\n\u001b[32m   1968\u001b[39m \u001b[43m            \u001b[49m\u001b[43mcursor\u001b[49m\u001b[43m,\u001b[49m\u001b[43m \u001b[49m\u001b[43mstr_statement\u001b[49m\u001b[43m,\u001b[49m\u001b[43m \u001b[49m\u001b[43meffective_parameters\u001b[49m\u001b[43m,\u001b[49m\u001b[43m \u001b[49m\u001b[43mcontext\u001b[49m\n\u001b[32m   1969\u001b[39m \u001b[43m        \u001b[49m\u001b[43m)\u001b[49m\n\u001b[32m   1971\u001b[39m \u001b[38;5;28;01mif\u001b[39;00m \u001b[38;5;28mself\u001b[39m._has_events \u001b[38;5;129;01mor\u001b[39;00m \u001b[38;5;28mself\u001b[39m.engine._has_events:\n",
      "\u001b[36mFile \u001b[39m\u001b[32m~/workspace/workspace/projects/ridge/.venv/lib/python3.13/site-packages/sqlalchemy/engine/default.py:951\u001b[39m, in \u001b[36mDefaultDialect.do_execute\u001b[39m\u001b[34m(self, cursor, statement, parameters, context)\u001b[39m\n\u001b[32m    950\u001b[39m \u001b[38;5;28;01mdef\u001b[39;00m\u001b[38;5;250m \u001b[39m\u001b[34mdo_execute\u001b[39m(\u001b[38;5;28mself\u001b[39m, cursor, statement, parameters, context=\u001b[38;5;28;01mNone\u001b[39;00m):\n\u001b[32m--> \u001b[39m\u001b[32m951\u001b[39m     \u001b[43mcursor\u001b[49m\u001b[43m.\u001b[49m\u001b[43mexecute\u001b[49m\u001b[43m(\u001b[49m\u001b[43mstatement\u001b[49m\u001b[43m,\u001b[49m\u001b[43m \u001b[49m\u001b[43mparameters\u001b[49m\u001b[43m)\u001b[49m\n",
      "\u001b[36mFile \u001b[39m\u001b[32m~/workspace/workspace/projects/ridge/.venv/lib/python3.13/site-packages/psycopg/cursor.py:97\u001b[39m, in \u001b[36mCursor.execute\u001b[39m\u001b[34m(self, query, params, prepare, binary)\u001b[39m\n\u001b[32m     96\u001b[39m \u001b[38;5;28;01mexcept\u001b[39;00m e._NO_TRACEBACK \u001b[38;5;28;01mas\u001b[39;00m ex:\n\u001b[32m---> \u001b[39m\u001b[32m97\u001b[39m     \u001b[38;5;28;01mraise\u001b[39;00m ex.with_traceback(\u001b[38;5;28;01mNone\u001b[39;00m)\n\u001b[32m     98\u001b[39m \u001b[38;5;28;01mreturn\u001b[39;00m \u001b[38;5;28mself\u001b[39m\n",
      "\u001b[31mSyntaxError\u001b[39m: syntax error in tsquery: \"Hello world\"",
      "\nThe above exception was the direct cause of the following exception:\n",
      "\u001b[31mProgrammingError\u001b[39m                          Traceback (most recent call last)",
      "\u001b[36mCell\u001b[39m\u001b[36m \u001b[39m\u001b[32mIn[48]\u001b[39m\u001b[32m, line 3\u001b[39m\n\u001b[32m      1\u001b[39m \u001b[38;5;28;01mwith\u001b[39;00m get_session() \u001b[38;5;28;01mas\u001b[39;00m session:\n\u001b[32m      2\u001b[39m     \u001b[38;5;28mprint\u001b[39m(\n\u001b[32m----> \u001b[39m\u001b[32m3\u001b[39m         \u001b[43msession\u001b[49m\u001b[43m.\u001b[49m\u001b[43mexecute\u001b[49m\u001b[43m(\u001b[49m\n\u001b[32m      4\u001b[39m \u001b[43m            \u001b[49m\u001b[43mselect\u001b[49m\u001b[43m(\u001b[49m\u001b[43mSupplier\u001b[49m\u001b[43m.\u001b[49m\u001b[43mid\u001b[49m\u001b[43m,\u001b[49m\u001b[43m \u001b[49m\u001b[43mfunc\u001b[49m\u001b[43m.\u001b[49m\u001b[43mto_tsquery\u001b[49m\u001b[43m(\u001b[49m\u001b[33;43m\"\u001b[39;49m\u001b[33;43menglish\u001b[39;49m\u001b[33;43m\"\u001b[39;49m\u001b[43m,\u001b[49m\u001b[43m \u001b[49m\u001b[33;43m\"\u001b[39;49m\u001b[33;43mHello world\u001b[39;49m\u001b[33;43m\"\u001b[39;49m\u001b[43m)\u001b[49m\u001b[43m)\u001b[49m\u001b[43m.\u001b[49m\u001b[43mlimit\u001b[49m\u001b[43m(\u001b[49m\u001b[32;43m1\u001b[39;49m\u001b[43m)\u001b[49m\n\u001b[32m      5\u001b[39m \u001b[43m        \u001b[49m\u001b[43m)\u001b[49m.all()\n\u001b[32m      6\u001b[39m     )\n",
      "\u001b[36mFile \u001b[39m\u001b[32m~/workspace/workspace/projects/ridge/.venv/lib/python3.13/site-packages/sqlalchemy/orm/session.py:2365\u001b[39m, in \u001b[36mSession.execute\u001b[39m\u001b[34m(self, statement, params, execution_options, bind_arguments, _parent_execute_state, _add_event)\u001b[39m\n\u001b[32m   2305\u001b[39m \u001b[38;5;28;01mdef\u001b[39;00m\u001b[38;5;250m \u001b[39m\u001b[34mexecute\u001b[39m(\n\u001b[32m   2306\u001b[39m     \u001b[38;5;28mself\u001b[39m,\n\u001b[32m   2307\u001b[39m     statement: Executable,\n\u001b[32m   (...)\u001b[39m\u001b[32m   2313\u001b[39m     _add_event: Optional[Any] = \u001b[38;5;28;01mNone\u001b[39;00m,\n\u001b[32m   2314\u001b[39m ) -> Result[Any]:\n\u001b[32m   2315\u001b[39m \u001b[38;5;250m    \u001b[39m\u001b[33mr\u001b[39m\u001b[33;03m\"\"\"Execute a SQL expression construct.\u001b[39;00m\n\u001b[32m   2316\u001b[39m \n\u001b[32m   2317\u001b[39m \u001b[33;03m    Returns a :class:`_engine.Result` object representing\u001b[39;00m\n\u001b[32m   (...)\u001b[39m\u001b[32m   2363\u001b[39m \n\u001b[32m   2364\u001b[39m \u001b[33;03m    \"\"\"\u001b[39;00m\n\u001b[32m-> \u001b[39m\u001b[32m2365\u001b[39m     \u001b[38;5;28;01mreturn\u001b[39;00m \u001b[38;5;28;43mself\u001b[39;49m\u001b[43m.\u001b[49m\u001b[43m_execute_internal\u001b[49m\u001b[43m(\u001b[49m\n\u001b[32m   2366\u001b[39m \u001b[43m        \u001b[49m\u001b[43mstatement\u001b[49m\u001b[43m,\u001b[49m\n\u001b[32m   2367\u001b[39m \u001b[43m        \u001b[49m\u001b[43mparams\u001b[49m\u001b[43m,\u001b[49m\n\u001b[32m   2368\u001b[39m \u001b[43m        \u001b[49m\u001b[43mexecution_options\u001b[49m\u001b[43m=\u001b[49m\u001b[43mexecution_options\u001b[49m\u001b[43m,\u001b[49m\n\u001b[32m   2369\u001b[39m \u001b[43m        \u001b[49m\u001b[43mbind_arguments\u001b[49m\u001b[43m=\u001b[49m\u001b[43mbind_arguments\u001b[49m\u001b[43m,\u001b[49m\n\u001b[32m   2370\u001b[39m \u001b[43m        \u001b[49m\u001b[43m_parent_execute_state\u001b[49m\u001b[43m=\u001b[49m\u001b[43m_parent_execute_state\u001b[49m\u001b[43m,\u001b[49m\n\u001b[32m   2371\u001b[39m \u001b[43m        \u001b[49m\u001b[43m_add_event\u001b[49m\u001b[43m=\u001b[49m\u001b[43m_add_event\u001b[49m\u001b[43m,\u001b[49m\n\u001b[32m   2372\u001b[39m \u001b[43m    \u001b[49m\u001b[43m)\u001b[49m\n",
      "\u001b[36mFile \u001b[39m\u001b[32m~/workspace/workspace/projects/ridge/.venv/lib/python3.13/site-packages/sqlalchemy/orm/session.py:2251\u001b[39m, in \u001b[36mSession._execute_internal\u001b[39m\u001b[34m(self, statement, params, execution_options, bind_arguments, _parent_execute_state, _add_event, _scalar_result)\u001b[39m\n\u001b[32m   2246\u001b[39m     \u001b[38;5;28;01mreturn\u001b[39;00m conn.scalar(\n\u001b[32m   2247\u001b[39m         statement, params \u001b[38;5;129;01mor\u001b[39;00m {}, execution_options=execution_options\n\u001b[32m   2248\u001b[39m     )\n\u001b[32m   2250\u001b[39m \u001b[38;5;28;01mif\u001b[39;00m compile_state_cls:\n\u001b[32m-> \u001b[39m\u001b[32m2251\u001b[39m     result: Result[Any] = \u001b[43mcompile_state_cls\u001b[49m\u001b[43m.\u001b[49m\u001b[43morm_execute_statement\u001b[49m\u001b[43m(\u001b[49m\n\u001b[32m   2252\u001b[39m \u001b[43m        \u001b[49m\u001b[38;5;28;43mself\u001b[39;49m\u001b[43m,\u001b[49m\n\u001b[32m   2253\u001b[39m \u001b[43m        \u001b[49m\u001b[43mstatement\u001b[49m\u001b[43m,\u001b[49m\n\u001b[32m   2254\u001b[39m \u001b[43m        \u001b[49m\u001b[43mparams\u001b[49m\u001b[43m \u001b[49m\u001b[38;5;129;43;01mor\u001b[39;49;00m\u001b[43m \u001b[49m\u001b[43m{\u001b[49m\u001b[43m}\u001b[49m\u001b[43m,\u001b[49m\n\u001b[32m   2255\u001b[39m \u001b[43m        \u001b[49m\u001b[43mexecution_options\u001b[49m\u001b[43m,\u001b[49m\n\u001b[32m   2256\u001b[39m \u001b[43m        \u001b[49m\u001b[43mbind_arguments\u001b[49m\u001b[43m,\u001b[49m\n\u001b[32m   2257\u001b[39m \u001b[43m        \u001b[49m\u001b[43mconn\u001b[49m\u001b[43m,\u001b[49m\n\u001b[32m   2258\u001b[39m \u001b[43m    \u001b[49m\u001b[43m)\u001b[49m\n\u001b[32m   2259\u001b[39m \u001b[38;5;28;01melse\u001b[39;00m:\n\u001b[32m   2260\u001b[39m     result = conn.execute(\n\u001b[32m   2261\u001b[39m         statement, params \u001b[38;5;129;01mor\u001b[39;00m {}, execution_options=execution_options\n\u001b[32m   2262\u001b[39m     )\n",
      "\u001b[36mFile \u001b[39m\u001b[32m~/workspace/workspace/projects/ridge/.venv/lib/python3.13/site-packages/sqlalchemy/orm/context.py:306\u001b[39m, in \u001b[36mAbstractORMCompileState.orm_execute_statement\u001b[39m\u001b[34m(cls, session, statement, params, execution_options, bind_arguments, conn)\u001b[39m\n\u001b[32m    296\u001b[39m \u001b[38;5;129m@classmethod\u001b[39m\n\u001b[32m    297\u001b[39m \u001b[38;5;28;01mdef\u001b[39;00m\u001b[38;5;250m \u001b[39m\u001b[34morm_execute_statement\u001b[39m(\n\u001b[32m    298\u001b[39m     \u001b[38;5;28mcls\u001b[39m,\n\u001b[32m   (...)\u001b[39m\u001b[32m    304\u001b[39m     conn,\n\u001b[32m    305\u001b[39m ) -> Result:\n\u001b[32m--> \u001b[39m\u001b[32m306\u001b[39m     result = \u001b[43mconn\u001b[49m\u001b[43m.\u001b[49m\u001b[43mexecute\u001b[49m\u001b[43m(\u001b[49m\n\u001b[32m    307\u001b[39m \u001b[43m        \u001b[49m\u001b[43mstatement\u001b[49m\u001b[43m,\u001b[49m\u001b[43m \u001b[49m\u001b[43mparams\u001b[49m\u001b[43m \u001b[49m\u001b[38;5;129;43;01mor\u001b[39;49;00m\u001b[43m \u001b[49m\u001b[43m{\u001b[49m\u001b[43m}\u001b[49m\u001b[43m,\u001b[49m\u001b[43m \u001b[49m\u001b[43mexecution_options\u001b[49m\u001b[43m=\u001b[49m\u001b[43mexecution_options\u001b[49m\n\u001b[32m    308\u001b[39m \u001b[43m    \u001b[49m\u001b[43m)\u001b[49m\n\u001b[32m    309\u001b[39m     \u001b[38;5;28;01mreturn\u001b[39;00m \u001b[38;5;28mcls\u001b[39m.orm_setup_cursor_result(\n\u001b[32m    310\u001b[39m         session,\n\u001b[32m    311\u001b[39m         statement,\n\u001b[32m   (...)\u001b[39m\u001b[32m    315\u001b[39m         result,\n\u001b[32m    316\u001b[39m     )\n",
      "\u001b[36mFile \u001b[39m\u001b[32m~/workspace/workspace/projects/ridge/.venv/lib/python3.13/site-packages/sqlalchemy/engine/base.py:1419\u001b[39m, in \u001b[36mConnection.execute\u001b[39m\u001b[34m(self, statement, parameters, execution_options)\u001b[39m\n\u001b[32m   1417\u001b[39m     \u001b[38;5;28;01mraise\u001b[39;00m exc.ObjectNotExecutableError(statement) \u001b[38;5;28;01mfrom\u001b[39;00m\u001b[38;5;250m \u001b[39m\u001b[34;01merr\u001b[39;00m\n\u001b[32m   1418\u001b[39m \u001b[38;5;28;01melse\u001b[39;00m:\n\u001b[32m-> \u001b[39m\u001b[32m1419\u001b[39m     \u001b[38;5;28;01mreturn\u001b[39;00m \u001b[43mmeth\u001b[49m\u001b[43m(\u001b[49m\n\u001b[32m   1420\u001b[39m \u001b[43m        \u001b[49m\u001b[38;5;28;43mself\u001b[39;49m\u001b[43m,\u001b[49m\n\u001b[32m   1421\u001b[39m \u001b[43m        \u001b[49m\u001b[43mdistilled_parameters\u001b[49m\u001b[43m,\u001b[49m\n\u001b[32m   1422\u001b[39m \u001b[43m        \u001b[49m\u001b[43mexecution_options\u001b[49m\u001b[43m \u001b[49m\u001b[38;5;129;43;01mor\u001b[39;49;00m\u001b[43m \u001b[49m\u001b[43mNO_OPTIONS\u001b[49m\u001b[43m,\u001b[49m\n\u001b[32m   1423\u001b[39m \u001b[43m    \u001b[49m\u001b[43m)\u001b[49m\n",
      "\u001b[36mFile \u001b[39m\u001b[32m~/workspace/workspace/projects/ridge/.venv/lib/python3.13/site-packages/sqlalchemy/sql/elements.py:526\u001b[39m, in \u001b[36mClauseElement._execute_on_connection\u001b[39m\u001b[34m(self, connection, distilled_params, execution_options)\u001b[39m\n\u001b[32m    524\u001b[39m     \u001b[38;5;28;01mif\u001b[39;00m TYPE_CHECKING:\n\u001b[32m    525\u001b[39m         \u001b[38;5;28;01massert\u001b[39;00m \u001b[38;5;28misinstance\u001b[39m(\u001b[38;5;28mself\u001b[39m, Executable)\n\u001b[32m--> \u001b[39m\u001b[32m526\u001b[39m     \u001b[38;5;28;01mreturn\u001b[39;00m \u001b[43mconnection\u001b[49m\u001b[43m.\u001b[49m\u001b[43m_execute_clauseelement\u001b[49m\u001b[43m(\u001b[49m\n\u001b[32m    527\u001b[39m \u001b[43m        \u001b[49m\u001b[38;5;28;43mself\u001b[39;49m\u001b[43m,\u001b[49m\u001b[43m \u001b[49m\u001b[43mdistilled_params\u001b[49m\u001b[43m,\u001b[49m\u001b[43m \u001b[49m\u001b[43mexecution_options\u001b[49m\n\u001b[32m    528\u001b[39m \u001b[43m    \u001b[49m\u001b[43m)\u001b[49m\n\u001b[32m    529\u001b[39m \u001b[38;5;28;01melse\u001b[39;00m:\n\u001b[32m    530\u001b[39m     \u001b[38;5;28;01mraise\u001b[39;00m exc.ObjectNotExecutableError(\u001b[38;5;28mself\u001b[39m)\n",
      "\u001b[36mFile \u001b[39m\u001b[32m~/workspace/workspace/projects/ridge/.venv/lib/python3.13/site-packages/sqlalchemy/engine/base.py:1641\u001b[39m, in \u001b[36mConnection._execute_clauseelement\u001b[39m\u001b[34m(self, elem, distilled_parameters, execution_options)\u001b[39m\n\u001b[32m   1629\u001b[39m compiled_cache: Optional[CompiledCacheType] = execution_options.get(\n\u001b[32m   1630\u001b[39m     \u001b[33m\"\u001b[39m\u001b[33mcompiled_cache\u001b[39m\u001b[33m\"\u001b[39m, \u001b[38;5;28mself\u001b[39m.engine._compiled_cache\n\u001b[32m   1631\u001b[39m )\n\u001b[32m   1633\u001b[39m compiled_sql, extracted_params, cache_hit = elem._compile_w_cache(\n\u001b[32m   1634\u001b[39m     dialect=dialect,\n\u001b[32m   1635\u001b[39m     compiled_cache=compiled_cache,\n\u001b[32m   (...)\u001b[39m\u001b[32m   1639\u001b[39m     linting=\u001b[38;5;28mself\u001b[39m.dialect.compiler_linting | compiler.WARN_LINTING,\n\u001b[32m   1640\u001b[39m )\n\u001b[32m-> \u001b[39m\u001b[32m1641\u001b[39m ret = \u001b[38;5;28;43mself\u001b[39;49m\u001b[43m.\u001b[49m\u001b[43m_execute_context\u001b[49m\u001b[43m(\u001b[49m\n\u001b[32m   1642\u001b[39m \u001b[43m    \u001b[49m\u001b[43mdialect\u001b[49m\u001b[43m,\u001b[49m\n\u001b[32m   1643\u001b[39m \u001b[43m    \u001b[49m\u001b[43mdialect\u001b[49m\u001b[43m.\u001b[49m\u001b[43mexecution_ctx_cls\u001b[49m\u001b[43m.\u001b[49m\u001b[43m_init_compiled\u001b[49m\u001b[43m,\u001b[49m\n\u001b[32m   1644\u001b[39m \u001b[43m    \u001b[49m\u001b[43mcompiled_sql\u001b[49m\u001b[43m,\u001b[49m\n\u001b[32m   1645\u001b[39m \u001b[43m    \u001b[49m\u001b[43mdistilled_parameters\u001b[49m\u001b[43m,\u001b[49m\n\u001b[32m   1646\u001b[39m \u001b[43m    \u001b[49m\u001b[43mexecution_options\u001b[49m\u001b[43m,\u001b[49m\n\u001b[32m   1647\u001b[39m \u001b[43m    \u001b[49m\u001b[43mcompiled_sql\u001b[49m\u001b[43m,\u001b[49m\n\u001b[32m   1648\u001b[39m \u001b[43m    \u001b[49m\u001b[43mdistilled_parameters\u001b[49m\u001b[43m,\u001b[49m\n\u001b[32m   1649\u001b[39m \u001b[43m    \u001b[49m\u001b[43melem\u001b[49m\u001b[43m,\u001b[49m\n\u001b[32m   1650\u001b[39m \u001b[43m    \u001b[49m\u001b[43mextracted_params\u001b[49m\u001b[43m,\u001b[49m\n\u001b[32m   1651\u001b[39m \u001b[43m    \u001b[49m\u001b[43mcache_hit\u001b[49m\u001b[43m=\u001b[49m\u001b[43mcache_hit\u001b[49m\u001b[43m,\u001b[49m\n\u001b[32m   1652\u001b[39m \u001b[43m\u001b[49m\u001b[43m)\u001b[49m\n\u001b[32m   1653\u001b[39m \u001b[38;5;28;01mif\u001b[39;00m has_events:\n\u001b[32m   1654\u001b[39m     \u001b[38;5;28mself\u001b[39m.dispatch.after_execute(\n\u001b[32m   1655\u001b[39m         \u001b[38;5;28mself\u001b[39m,\n\u001b[32m   1656\u001b[39m         elem,\n\u001b[32m   (...)\u001b[39m\u001b[32m   1660\u001b[39m         ret,\n\u001b[32m   1661\u001b[39m     )\n",
      "\u001b[36mFile \u001b[39m\u001b[32m~/workspace/workspace/projects/ridge/.venv/lib/python3.13/site-packages/sqlalchemy/engine/base.py:1846\u001b[39m, in \u001b[36mConnection._execute_context\u001b[39m\u001b[34m(self, dialect, constructor, statement, parameters, execution_options, *args, **kw)\u001b[39m\n\u001b[32m   1844\u001b[39m     \u001b[38;5;28;01mreturn\u001b[39;00m \u001b[38;5;28mself\u001b[39m._exec_insertmany_context(dialect, context)\n\u001b[32m   1845\u001b[39m \u001b[38;5;28;01melse\u001b[39;00m:\n\u001b[32m-> \u001b[39m\u001b[32m1846\u001b[39m     \u001b[38;5;28;01mreturn\u001b[39;00m \u001b[38;5;28;43mself\u001b[39;49m\u001b[43m.\u001b[49m\u001b[43m_exec_single_context\u001b[49m\u001b[43m(\u001b[49m\n\u001b[32m   1847\u001b[39m \u001b[43m        \u001b[49m\u001b[43mdialect\u001b[49m\u001b[43m,\u001b[49m\u001b[43m \u001b[49m\u001b[43mcontext\u001b[49m\u001b[43m,\u001b[49m\u001b[43m \u001b[49m\u001b[43mstatement\u001b[49m\u001b[43m,\u001b[49m\u001b[43m \u001b[49m\u001b[43mparameters\u001b[49m\n\u001b[32m   1848\u001b[39m \u001b[43m    \u001b[49m\u001b[43m)\u001b[49m\n",
      "\u001b[36mFile \u001b[39m\u001b[32m~/workspace/workspace/projects/ridge/.venv/lib/python3.13/site-packages/sqlalchemy/engine/base.py:1986\u001b[39m, in \u001b[36mConnection._exec_single_context\u001b[39m\u001b[34m(self, dialect, context, statement, parameters)\u001b[39m\n\u001b[32m   1983\u001b[39m     result = context._setup_result_proxy()\n\u001b[32m   1985\u001b[39m \u001b[38;5;28;01mexcept\u001b[39;00m \u001b[38;5;167;01mBaseException\u001b[39;00m \u001b[38;5;28;01mas\u001b[39;00m e:\n\u001b[32m-> \u001b[39m\u001b[32m1986\u001b[39m     \u001b[38;5;28;43mself\u001b[39;49m\u001b[43m.\u001b[49m\u001b[43m_handle_dbapi_exception\u001b[49m\u001b[43m(\u001b[49m\n\u001b[32m   1987\u001b[39m \u001b[43m        \u001b[49m\u001b[43me\u001b[49m\u001b[43m,\u001b[49m\u001b[43m \u001b[49m\u001b[43mstr_statement\u001b[49m\u001b[43m,\u001b[49m\u001b[43m \u001b[49m\u001b[43meffective_parameters\u001b[49m\u001b[43m,\u001b[49m\u001b[43m \u001b[49m\u001b[43mcursor\u001b[49m\u001b[43m,\u001b[49m\u001b[43m \u001b[49m\u001b[43mcontext\u001b[49m\n\u001b[32m   1988\u001b[39m \u001b[43m    \u001b[49m\u001b[43m)\u001b[49m\n\u001b[32m   1990\u001b[39m \u001b[38;5;28;01mreturn\u001b[39;00m result\n",
      "\u001b[36mFile \u001b[39m\u001b[32m~/workspace/workspace/projects/ridge/.venv/lib/python3.13/site-packages/sqlalchemy/engine/base.py:2355\u001b[39m, in \u001b[36mConnection._handle_dbapi_exception\u001b[39m\u001b[34m(self, e, statement, parameters, cursor, context, is_sub_exec)\u001b[39m\n\u001b[32m   2353\u001b[39m \u001b[38;5;28;01melif\u001b[39;00m should_wrap:\n\u001b[32m   2354\u001b[39m     \u001b[38;5;28;01massert\u001b[39;00m sqlalchemy_exception \u001b[38;5;129;01mis\u001b[39;00m \u001b[38;5;129;01mnot\u001b[39;00m \u001b[38;5;28;01mNone\u001b[39;00m\n\u001b[32m-> \u001b[39m\u001b[32m2355\u001b[39m     \u001b[38;5;28;01mraise\u001b[39;00m sqlalchemy_exception.with_traceback(exc_info[\u001b[32m2\u001b[39m]) \u001b[38;5;28;01mfrom\u001b[39;00m\u001b[38;5;250m \u001b[39m\u001b[34;01me\u001b[39;00m\n\u001b[32m   2356\u001b[39m \u001b[38;5;28;01melse\u001b[39;00m:\n\u001b[32m   2357\u001b[39m     \u001b[38;5;28;01massert\u001b[39;00m exc_info[\u001b[32m1\u001b[39m] \u001b[38;5;129;01mis\u001b[39;00m \u001b[38;5;129;01mnot\u001b[39;00m \u001b[38;5;28;01mNone\u001b[39;00m\n",
      "\u001b[36mFile \u001b[39m\u001b[32m~/workspace/workspace/projects/ridge/.venv/lib/python3.13/site-packages/sqlalchemy/engine/base.py:1967\u001b[39m, in \u001b[36mConnection._exec_single_context\u001b[39m\u001b[34m(self, dialect, context, statement, parameters)\u001b[39m\n\u001b[32m   1965\u001b[39m                 \u001b[38;5;28;01mbreak\u001b[39;00m\n\u001b[32m   1966\u001b[39m     \u001b[38;5;28;01mif\u001b[39;00m \u001b[38;5;129;01mnot\u001b[39;00m evt_handled:\n\u001b[32m-> \u001b[39m\u001b[32m1967\u001b[39m         \u001b[38;5;28;43mself\u001b[39;49m\u001b[43m.\u001b[49m\u001b[43mdialect\u001b[49m\u001b[43m.\u001b[49m\u001b[43mdo_execute\u001b[49m\u001b[43m(\u001b[49m\n\u001b[32m   1968\u001b[39m \u001b[43m            \u001b[49m\u001b[43mcursor\u001b[49m\u001b[43m,\u001b[49m\u001b[43m \u001b[49m\u001b[43mstr_statement\u001b[49m\u001b[43m,\u001b[49m\u001b[43m \u001b[49m\u001b[43meffective_parameters\u001b[49m\u001b[43m,\u001b[49m\u001b[43m \u001b[49m\u001b[43mcontext\u001b[49m\n\u001b[32m   1969\u001b[39m \u001b[43m        \u001b[49m\u001b[43m)\u001b[49m\n\u001b[32m   1971\u001b[39m \u001b[38;5;28;01mif\u001b[39;00m \u001b[38;5;28mself\u001b[39m._has_events \u001b[38;5;129;01mor\u001b[39;00m \u001b[38;5;28mself\u001b[39m.engine._has_events:\n\u001b[32m   1972\u001b[39m     \u001b[38;5;28mself\u001b[39m.dispatch.after_cursor_execute(\n\u001b[32m   1973\u001b[39m         \u001b[38;5;28mself\u001b[39m,\n\u001b[32m   1974\u001b[39m         cursor,\n\u001b[32m   (...)\u001b[39m\u001b[32m   1978\u001b[39m         context.executemany,\n\u001b[32m   1979\u001b[39m     )\n",
      "\u001b[36mFile \u001b[39m\u001b[32m~/workspace/workspace/projects/ridge/.venv/lib/python3.13/site-packages/sqlalchemy/engine/default.py:951\u001b[39m, in \u001b[36mDefaultDialect.do_execute\u001b[39m\u001b[34m(self, cursor, statement, parameters, context)\u001b[39m\n\u001b[32m    950\u001b[39m \u001b[38;5;28;01mdef\u001b[39;00m\u001b[38;5;250m \u001b[39m\u001b[34mdo_execute\u001b[39m(\u001b[38;5;28mself\u001b[39m, cursor, statement, parameters, context=\u001b[38;5;28;01mNone\u001b[39;00m):\n\u001b[32m--> \u001b[39m\u001b[32m951\u001b[39m     \u001b[43mcursor\u001b[49m\u001b[43m.\u001b[49m\u001b[43mexecute\u001b[49m\u001b[43m(\u001b[49m\u001b[43mstatement\u001b[49m\u001b[43m,\u001b[49m\u001b[43m \u001b[49m\u001b[43mparameters\u001b[49m\u001b[43m)\u001b[49m\n",
      "\u001b[36mFile \u001b[39m\u001b[32m~/workspace/workspace/projects/ridge/.venv/lib/python3.13/site-packages/psycopg/cursor.py:97\u001b[39m, in \u001b[36mCursor.execute\u001b[39m\u001b[34m(self, query, params, prepare, binary)\u001b[39m\n\u001b[32m     93\u001b[39m         \u001b[38;5;28mself\u001b[39m._conn.wait(\n\u001b[32m     94\u001b[39m             \u001b[38;5;28mself\u001b[39m._execute_gen(query, params, prepare=prepare, binary=binary)\n\u001b[32m     95\u001b[39m         )\n\u001b[32m     96\u001b[39m \u001b[38;5;28;01mexcept\u001b[39;00m e._NO_TRACEBACK \u001b[38;5;28;01mas\u001b[39;00m ex:\n\u001b[32m---> \u001b[39m\u001b[32m97\u001b[39m     \u001b[38;5;28;01mraise\u001b[39;00m ex.with_traceback(\u001b[38;5;28;01mNone\u001b[39;00m)\n\u001b[32m     98\u001b[39m \u001b[38;5;28;01mreturn\u001b[39;00m \u001b[38;5;28mself\u001b[39m\n",
      "\u001b[31mProgrammingError\u001b[39m: (psycopg.errors.SyntaxError) syntax error in tsquery: \"Hello world\"\n[SQL: SELECT supplier.id, to_tsquery(%(to_tsquery_2)s::REGCONFIG, %(to_tsquery_3)s::VARCHAR) AS to_tsquery_1 \nFROM supplier \n LIMIT %(param_1)s::INTEGER]\n[parameters: {'to_tsquery_2': 'english', 'to_tsquery_3': 'Hello world', 'param_1': 1}]\n(Background on this error at: https://sqlalche.me/e/20/f405)"
     ]
    }
   ],
   "source": [
    "with get_session() as session:\n",
    "    print(\n",
    "        session.execute(\n",
    "            select(Supplier.id, func.to_tsquery(\"english\", \"Hello world\")).limit(1)\n",
    "        ).all()\n",
    "    )"
   ]
  }
 ],
 "metadata": {
  "kernelspec": {
   "display_name": ".venv (3.13.7)",
   "language": "python",
   "name": "python3"
  },
  "language_info": {
   "codemirror_mode": {
    "name": "ipython",
    "version": 3
   },
   "file_extension": ".py",
   "mimetype": "text/x-python",
   "name": "python",
   "nbconvert_exporter": "python",
   "pygments_lexer": "ipython3",
   "version": "3.13.7"
  }
 },
 "nbformat": 4,
 "nbformat_minor": 5
}
